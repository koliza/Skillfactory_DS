{
 "cells": [
  {
   "cell_type": "code",
   "execution_count": 4,
   "metadata": {},
   "outputs": [],
   "source": [
    "# Введите свое решение ниже\n",
    "import pandas as pd\n",
    "import numpy as np\n",
    "def create_companyDF(income, expenses, years):\n",
    "    df = pd.DataFrame(np.transpose(np.array([income, expenses])), columns=[\"Income\", \"Expenses\"], index=years)\n",
    "    return df\n",
    "\n",
    "def get_profit(df, year):\n",
    "    df_index = df.index\n",
    "    if year in df_index:\n",
    "        df_mean = df.loc[year, 'Income'] - df.loc[year, 'Expenses']\n",
    "        return df_mean\n",
    "    else:\n",
    "        return None"
   ]
  },
  {
   "cell_type": "code",
   "execution_count": 5,
   "metadata": {},
   "outputs": [
    {
     "name": "stdout",
     "output_type": "stream",
     "text": [
      "pandas\n"
     ]
    }
   ],
   "source": [
    "print(get_profit(create_companyDF(income, expenses, years), 2022))"
   ]
  },
  {
   "cell_type": "code",
   "execution_count": null,
   "metadata": {},
   "outputs": [],
   "source": []
  }
 ],
 "metadata": {
  "kernelspec": {
   "display_name": "Python 3.9.5 64-bit",
   "language": "python",
   "name": "python3"
  },
  "language_info": {
   "codemirror_mode": {
    "name": "ipython",
    "version": 3
   },
   "file_extension": ".py",
   "mimetype": "text/x-python",
   "name": "python",
   "nbconvert_exporter": "python",
   "pygments_lexer": "ipython3",
   "version": "3.9.5"
  },
  "orig_nbformat": 4,
  "vscode": {
   "interpreter": {
    "hash": "93b31e2dff5007daea0004601f5429264d729ff64543555ca779022449180775"
   }
  }
 },
 "nbformat": 4,
 "nbformat_minor": 2
}
