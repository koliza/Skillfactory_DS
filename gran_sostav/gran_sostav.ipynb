{
 "cells": [
  {
   "cell_type": "code",
   "execution_count": 1,
   "metadata": {},
   "outputs": [
    {
     "data": {
      "text/plain": [
       "['gran_sostav.ipynb',\n",
       " 'input_data.csv',\n",
       " '~$ввод данных.xlsx',\n",
       " 'ввод данных.xlsx']"
      ]
     },
     "execution_count": 1,
     "metadata": {},
     "output_type": "execute_result"
    }
   ],
   "source": [
    "import os as os\n",
    "import pandas as pd\n",
    "cwd = os.getcwd()\n",
    "os.listdir(cwd)"
   ]
  },
  {
   "cell_type": "code",
   "execution_count": 2,
   "metadata": {},
   "outputs": [],
   "source": [
    "data = pd.read_csv('input_data.csv', sep='\\t')"
   ]
  },
  {
   "cell_type": "code",
   "execution_count": 3,
   "metadata": {},
   "outputs": [
    {
     "data": {
      "text/html": [
       "<div>\n",
       "<style scoped>\n",
       "    .dataframe tbody tr th:only-of-type {\n",
       "        vertical-align: middle;\n",
       "    }\n",
       "\n",
       "    .dataframe tbody tr th {\n",
       "        vertical-align: top;\n",
       "    }\n",
       "\n",
       "    .dataframe thead th {\n",
       "        text-align: right;\n",
       "    }\n",
       "</style>\n",
       "<table border=\"1\" class=\"dataframe\">\n",
       "  <thead>\n",
       "    <tr style=\"text-align: right;\">\n",
       "      <th></th>\n",
       "      <th>галька (щебень)</th>\n",
       "      <th>гравий (дресва)</th>\n",
       "      <th>гравий (дресва).1</th>\n",
       "      <th>песок</th>\n",
       "      <th>песок.1</th>\n",
       "      <th>песок.2</th>\n",
       "      <th>песок.3</th>\n",
       "      <th>песок.4</th>\n",
       "      <th>пыль</th>\n",
       "      <th>пыль.1</th>\n",
       "      <th>глина</th>\n",
       "    </tr>\n",
       "  </thead>\n",
       "  <tbody>\n",
       "    <tr>\n",
       "      <th>0</th>\n",
       "      <td>&gt;10</td>\n",
       "      <td>10,0-5,0</td>\n",
       "      <td>5,0-2,0</td>\n",
       "      <td>2,0-1,0</td>\n",
       "      <td>1-0,5</td>\n",
       "      <td>0,5-0,25</td>\n",
       "      <td>0,25-0,1</td>\n",
       "      <td>0,1- 0,05</td>\n",
       "      <td>0,05-0,01</td>\n",
       "      <td>0,01-0,002</td>\n",
       "      <td>&lt;0,002</td>\n",
       "    </tr>\n",
       "    <tr>\n",
       "      <th>1</th>\n",
       "      <td>6.10</td>\n",
       "      <td>5.20</td>\n",
       "      <td>12.20</td>\n",
       "      <td>20.70</td>\n",
       "      <td>24.50</td>\n",
       "      <td>13.60</td>\n",
       "      <td>3.90</td>\n",
       "      <td>13.80</td>\n",
       "      <td>0.00</td>\n",
       "      <td>0.00</td>\n",
       "      <td>0.00</td>\n",
       "    </tr>\n",
       "  </tbody>\n",
       "</table>\n",
       "</div>"
      ],
      "text/plain": [
       "  галька (щебень) гравий (дресва) гравий (дресва).1    песок песок.1   \n",
       "0             >10        10,0-5,0           5,0-2,0  2,0-1,0   1-0,5  \\\n",
       "1            6.10            5.20             12.20    20.70   24.50   \n",
       "\n",
       "    песок.2   песок.3    песок.4       пыль      пыль.1   глина  \n",
       "0  0,5-0,25  0,25-0,1  0,1- 0,05  0,05-0,01  0,01-0,002  <0,002  \n",
       "1     13.60      3.90      13.80       0.00        0.00    0.00  "
      ]
     },
     "execution_count": 3,
     "metadata": {},
     "output_type": "execute_result"
    }
   ],
   "source": [
    "df = pd.DataFrame(data)\n",
    "df"
   ]
  },
  {
   "cell_type": "code",
   "execution_count": 8,
   "metadata": {},
   "outputs": [],
   "source": [
    "df.loc[1] = df.loc[1].astype(float)"
   ]
  },
  {
   "cell_type": "code",
   "execution_count": 9,
   "metadata": {},
   "outputs": [
    {
     "data": {
      "text/plain": [
       "float"
      ]
     },
     "execution_count": 9,
     "metadata": {},
     "output_type": "execute_result"
    }
   ],
   "source": [
    "type(df.loc[1][0])"
   ]
  },
  {
   "cell_type": "code",
   "execution_count": 10,
   "metadata": {},
   "outputs": [
    {
     "data": {
      "text/plain": [
       "100.0"
      ]
     },
     "execution_count": 10,
     "metadata": {},
     "output_type": "execute_result"
    }
   ],
   "source": [
    "def make_variation(init_var):\n",
    "    init_var = float(input())\n",
    "    "
   ]
  },
  {
   "cell_type": "code",
   "execution_count": null,
   "metadata": {},
   "outputs": [],
   "source": []
  }
 ],
 "metadata": {
  "kernelspec": {
   "display_name": "Python 3",
   "language": "python",
   "name": "python3"
  },
  "language_info": {
   "codemirror_mode": {
    "name": "ipython",
    "version": 3
   },
   "file_extension": ".py",
   "mimetype": "text/x-python",
   "name": "python",
   "nbconvert_exporter": "python",
   "pygments_lexer": "ipython3",
   "version": "3.11.3"
  },
  "orig_nbformat": 4
 },
 "nbformat": 4,
 "nbformat_minor": 2
}
